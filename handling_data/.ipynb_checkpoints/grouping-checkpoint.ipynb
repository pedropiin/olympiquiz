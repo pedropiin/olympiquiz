{
 "cells": [
  {
   "cell_type": "code",
   "execution_count": 1,
   "metadata": {},
   "outputs": [],
   "source": [
    "%defaultDatasource jdbc:h2:mem:db"
   ]
  },
  {
   "cell_type": "code",
   "execution_count": 5,
   "metadata": {},
   "outputs": [],
   "source": [
    "CREATE TABLE athletes (\n",
    "    ID VARCHAR(50),\n",
    "    Name VARCHAR(70),\n",
    "    Sex VARCHAR(50),\n",
    "    Age VARCHAR(50),\n",
    "    NOC VARCHAR(50),\n",
    "    Year VARCHAR(50),\n",
    "    Sport VARCHAR(50),\n",
    "    Medal VARCHAR(50)\n",
    ") AS SELECT\n",
    "    ID,\n",
    "    Name,\n",
    "    Sex,\n",
    "    Age,\n",
    "    NOC,\n",
    "    Year,\n",
    "    Sport,\n",
    "    Medal\n",
    "FROM CSVREAD('./data/athletes_clean.csv');\n"
   ]
  },
  {
   "cell_type": "code",
   "execution_count": 7,
   "metadata": {},
   "outputs": [
    {
     "data": {
      "application/vnd.jupyter.widget-view+json": {
       "model_id": "98f4ad3b-a9db-422e-ade4-cd68f257ab5c",
       "version_major": 2,
       "version_minor": 0
      },
      "method": "display_data"
     },
     "metadata": {},
     "output_type": "display_data"
    }
   ],
   "source": [
    "SELECT * FROM athletes LIMIT 25"
   ]
  },
  {
   "cell_type": "code",
   "execution_count": 26,
   "metadata": {},
   "outputs": [
    {
     "data": {
      "application/vnd.jupyter.widget-view+json": {
       "model_id": "ed9bf133-f7d8-4652-8ffc-45f1b6e4f956",
       "version_major": 2,
       "version_minor": 0
      },
      "method": "display_data"
     },
     "metadata": {},
     "output_type": "display_data"
    }
   ],
   "source": [
    "SELECT ID, NAME, SEX, MAX(AGE), NOC, MAX(YEAR), SPORT, COUNT(ID)\n",
    "FROM athletes\n",
    "GROUP BY ID, NAME, NOC, SPORT\n",
    "ORDER BY NAME\n",
    "LIMIT 100"
   ]
  },
  {
   "cell_type": "markdown",
   "metadata": {},
   "source": [
    "Medalhas totais"
   ]
  },
  {
   "cell_type": "markdown",
   "metadata": {},
   "source": [
    "CREATE VIEW athlete_group AS\n",
    "\n",
    "SELECT ID, NAME, SEX, MAX(AGE) AS AGE, NOC, MAX(YEAR) AS YEAR, SPORT, COUNT(MEDAL) AS MEDALS\n",
    "FROM athletes\n",
    "WHERE Medal NOT LIKE 'No Medal'\n",
    "GROUP BY ID, NAME, NOC, SPORT\n",
    "ORDER BY NAME"
   ]
  },
  {
   "cell_type": "code",
   "execution_count": 49,
   "metadata": {},
   "outputs": [
    {
     "data": {
      "application/vnd.jupyter.widget-view+json": {
       "model_id": "7f98d1c2-286c-412e-826c-40e63e77bce9",
       "version_major": 2,
       "version_minor": 0
      },
      "method": "display_data"
     },
     "metadata": {},
     "output_type": "display_data"
    }
   ],
   "source": [
    "select * from athlete_group"
   ]
  },
  {
   "cell_type": "markdown",
   "metadata": {},
   "source": [
    "Relacionando com os países corretos"
   ]
  },
  {
   "cell_type": "code",
   "execution_count": 37,
   "metadata": {},
   "outputs": [],
   "source": [
    "CREATE TABLE noc_regions (\n",
    "    NOC VARCHAR(3),\n",
    "    region VARCHAR(50),\n",
    "    notes VARCHAR(50)\n",
    ") AS SELECT\n",
    "    NOC,\n",
    "    region,\n",
    "    notes\n",
    "FROM CSVREAD('./data/noc_regions.csv');\n"
   ]
  },
  {
   "cell_type": "code",
   "execution_count": 54,
   "metadata": {},
   "outputs": [],
   "source": [
    "CREATE TABLE athletes_group AS\n",
    "SELECT ID, a.NAME, a.SEX, a.AGE, n.region AS COUNTRY, a.YEAR, a.SPORT, a.MEDALS\n",
    "FROM athlete_group A, noc_regions N\n",
    "WHERE A.NOC = N.NOC\n",
    "ORDER BY A.NAME"
   ]
  },
  {
   "cell_type": "code",
   "execution_count": 55,
   "metadata": {},
   "outputs": [
    {
     "data": {
      "text/plain": [
       "28014"
      ]
     },
     "execution_count": 55,
     "metadata": {},
     "output_type": "execute_result"
    }
   ],
   "source": [
    "CALL CSVWRITE('./data/medalists.csv', 'SELECT * FROM athletes_group');"
   ]
  }
 ],
 "metadata": {
  "kernelspec": {
   "display_name": "SQL",
   "language": "SQL",
   "name": "sql"
  },
  "language_info": {
   "codemirror_mode": "sql",
   "file_extension": ".sql",
   "mimetype": "",
   "name": "SQL",
   "nbconverter_exporter": "",
   "version": ""
  },
  "toc": {
   "base_numbering": 1,
   "nav_menu": {},
   "number_sections": false,
   "sideBar": false,
   "skip_h1_title": false,
   "title_cell": "Table of Contents",
   "title_sidebar": "Contents",
   "toc_cell": false,
   "toc_position": {},
   "toc_section_display": false,
   "toc_window_display": false
  }
 },
 "nbformat": 4,
 "nbformat_minor": 2
}
